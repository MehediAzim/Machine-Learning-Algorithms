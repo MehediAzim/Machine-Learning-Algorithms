{
  "nbformat": 4,
  "nbformat_minor": 0,
  "metadata": {
    "colab": {
      "name": "Naive_Bayes.ipynb",
      "provenance": [],
      "collapsed_sections": [],
      "authorship_tag": "ABX9TyNOkKPlt54KUFyeFB8zoUvs",
      "include_colab_link": true
    },
    "kernelspec": {
      "name": "python3",
      "display_name": "Python 3"
    }
  },
  "cells": [
    {
      "cell_type": "markdown",
      "metadata": {
        "id": "view-in-github",
        "colab_type": "text"
      },
      "source": [
        "<a href=\"https://colab.research.google.com/github/MehediAzim/Machine-Learning-Algorithms/blob/master/Naive_Bayes.ipynb\" target=\"_parent\"><img src=\"https://colab.research.google.com/assets/colab-badge.svg\" alt=\"Open In Colab\"/></a>"
      ]
    },
    {
      "cell_type": "code",
      "metadata": {
        "id": "O5gH7tYvstDR",
        "colab_type": "code",
        "colab": {
          "base_uri": "https://localhost:8080/",
          "height": 34
        },
        "outputId": "9e05cd8a-cb72-4391-86e5-c20fa0f5a6ce"
      },
      "source": [
        "from google.colab import drive\n",
        "drive.mount('/content/gdrive')"
      ],
      "execution_count": null,
      "outputs": [
        {
          "output_type": "stream",
          "text": [
            "Drive already mounted at /content/gdrive; to attempt to forcibly remount, call drive.mount(\"/content/gdrive\", force_remount=True).\n"
          ],
          "name": "stdout"
        }
      ]
    },
    {
      "cell_type": "code",
      "metadata": {
        "id": "CvZY9jGjtC4t",
        "colab_type": "code",
        "colab": {
          "base_uri": "https://localhost:8080/",
          "height": 102
        },
        "outputId": "7e29c784-7989-4adc-d46c-4f38ab6df780"
      },
      "source": [
        "%cd /content/gdrive/My Drive/Pattern recognition laboratory/\n",
        "!ls"
      ],
      "execution_count": null,
      "outputs": [
        {
          "output_type": "stream",
          "text": [
            "/content/gdrive/My Drive/Pattern recognition laboratory\n",
            "'Decision Tree'\t\t\t\t\t      Lab_03-Naive_bayes.ipynb\n",
            "'Decision_Tree_Classification.zip (Unzipped Files)'   Social_Network_Ads.csv\n",
            " lab02_decisionTree.ipynb\t\t\t     'Untitled document.gdoc'\n",
            " Lab-03\n"
          ],
          "name": "stdout"
        }
      ]
    },
    {
      "cell_type": "code",
      "metadata": {
        "id": "Fp3D3qZ1tLI9",
        "colab_type": "code",
        "colab": {}
      },
      "source": [
        "# Importing the libraries\n",
        "import numpy as np\n",
        "import matplotlib.pyplot as plt\n",
        "import pandas as pd\n",
        "# Making the Confusion Matrix\n",
        "from sklearn.metrics import confusion_matrix\n",
        "from sklearn.metrics import accuracy_score\n",
        "from sklearn.metrics import classification_report"
      ],
      "execution_count": null,
      "outputs": []
    },
    {
      "cell_type": "code",
      "metadata": {
        "id": "or0-dujvtUue",
        "colab_type": "code",
        "colab": {}
      },
      "source": [
        "# Importing the dataset\n",
        "dataset = pd.read_csv('Social_Network_Ads.csv')\n",
        "X = dataset.iloc[:, [2, 3]].values\n",
        "y = dataset.iloc[:, 4].values"
      ],
      "execution_count": null,
      "outputs": []
    },
    {
      "cell_type": "code",
      "metadata": {
        "id": "FDdzQjGqtYZl",
        "colab_type": "code",
        "colab": {}
      },
      "source": [
        "# Splitting the dataset into the Training set and Test set\n",
        "from sklearn.model_selection import train_test_split\n",
        "X_train, X_test, y_train, y_test = train_test_split(X, y, test_size = 0.25, random_state = 0)"
      ],
      "execution_count": null,
      "outputs": []
    },
    {
      "cell_type": "code",
      "metadata": {
        "id": "2pt7mPNtthM2",
        "colab_type": "code",
        "colab": {}
      },
      "source": [
        "# Feature Scaling\n",
        "from sklearn.preprocessing import StandardScaler\n",
        "sc = StandardScaler()\n",
        "X_train = abs(sc.fit_transform(X_train))\n",
        "X_test = sc.transform(X_test)\n",
        "y_train = abs(y_train)"
      ],
      "execution_count": null,
      "outputs": []
    },
    {
      "cell_type": "markdown",
      "metadata": {
        "id": "taaia_wSvW6Q",
        "colab_type": "text"
      },
      "source": [
        "#Gaussian NB"
      ]
    },
    {
      "cell_type": "code",
      "metadata": {
        "id": "x_goIkvGtkxl",
        "colab_type": "code",
        "colab": {
          "base_uri": "https://localhost:8080/",
          "height": 34
        },
        "outputId": "0716fd56-a0f2-49ec-8f31-dbea22610390"
      },
      "source": [
        "# Fitting Naive Bayes to the Training set\n",
        "from sklearn.naive_bayes import GaussianNB \n",
        "classifier = GaussianNB()\n",
        "classifier.fit(X_train, y_train)"
      ],
      "execution_count": null,
      "outputs": [
        {
          "output_type": "execute_result",
          "data": {
            "text/plain": [
              "GaussianNB(priors=None, var_smoothing=1e-09)"
            ]
          },
          "metadata": {
            "tags": []
          },
          "execution_count": 116
        }
      ]
    },
    {
      "cell_type": "code",
      "metadata": {
        "id": "cnlO5LFEM5Yf",
        "colab_type": "code",
        "colab": {}
      },
      "source": [
        "# Predicting the Test set results\n",
        "y_pred = classifier.predict(X_test)"
      ],
      "execution_count": null,
      "outputs": []
    },
    {
      "cell_type": "code",
      "metadata": {
        "id": "fCub_KDbMzCQ",
        "colab_type": "code",
        "colab": {
          "base_uri": "https://localhost:8080/",
          "height": 221
        },
        "outputId": "96c75575-2aee-4ddb-c408-af4fa121587d"
      },
      "source": [
        "print (\"Accuracy : \", \n",
        "accuracy_score(y_test,y_pred)*100) \n",
        "\t\n",
        "print(\"Report : \", \n",
        "classification_report(y_test, y_pred)) \n",
        "\n",
        "cm = confusion_matrix(y_test, y_pred)\n",
        "print(cm)"
      ],
      "execution_count": null,
      "outputs": [
        {
          "output_type": "stream",
          "text": [
            "Accuracy :  78.0\n",
            "Report :                precision    recall  f1-score   support\n",
            "\n",
            "           0       0.76      1.00      0.86        68\n",
            "           1       1.00      0.31      0.48        32\n",
            "\n",
            "    accuracy                           0.78       100\n",
            "   macro avg       0.88      0.66      0.67       100\n",
            "weighted avg       0.83      0.78      0.74       100\n",
            "\n",
            "[[68  0]\n",
            " [22 10]]\n"
          ],
          "name": "stdout"
        }
      ]
    },
    {
      "cell_type": "markdown",
      "metadata": {
        "id": "DFx4hEBeu77d",
        "colab_type": "text"
      },
      "source": [
        "#NB multinomial\n"
      ]
    },
    {
      "cell_type": "code",
      "metadata": {
        "id": "av9v7FvtvH-V",
        "colab_type": "code",
        "colab": {
          "base_uri": "https://localhost:8080/",
          "height": 34
        },
        "outputId": "0c339403-8899-4c7b-d3c5-ea18bb3585fa"
      },
      "source": [
        "from sklearn.naive_bayes import MultinomialNB\n",
        "classifier = MultinomialNB()\n",
        "classifier.fit(X_train, y_train)"
      ],
      "execution_count": null,
      "outputs": [
        {
          "output_type": "execute_result",
          "data": {
            "text/plain": [
              "MultinomialNB(alpha=1.0, class_prior=None, fit_prior=True)"
            ]
          },
          "metadata": {
            "tags": []
          },
          "execution_count": 120
        }
      ]
    },
    {
      "cell_type": "code",
      "metadata": {
        "id": "AUFwLnElNKbH",
        "colab_type": "code",
        "colab": {}
      },
      "source": [
        "y_pred = classifier.predict(X_test)"
      ],
      "execution_count": null,
      "outputs": []
    },
    {
      "cell_type": "code",
      "metadata": {
        "id": "GxlQaCI3vopm",
        "colab_type": "code",
        "colab": {
          "base_uri": "https://localhost:8080/",
          "height": 221
        },
        "outputId": "45900a37-68ff-496c-b995-e4f0001c98bd"
      },
      "source": [
        "print (\"Accuracy : \", \n",
        "accuracy_score(y_test,y_pred)*100) \n",
        "\n",
        "\t\n",
        "print(\"Report : \", \n",
        "classification_report(y_test, y_pred)) \n",
        "\n",
        "cm1 = confusion_matrix(y_test, y_pred)\n",
        "print(cm1)"
      ],
      "execution_count": null,
      "outputs": [
        {
          "output_type": "stream",
          "text": [
            "Accuracy :  69.0\n",
            "Report :                precision    recall  f1-score   support\n",
            "\n",
            "           0       0.69      1.00      0.81        68\n",
            "           1       1.00      0.03      0.06        32\n",
            "\n",
            "    accuracy                           0.69       100\n",
            "   macro avg       0.84      0.52      0.44       100\n",
            "weighted avg       0.79      0.69      0.57       100\n",
            "\n",
            "[[68  0]\n",
            " [31  1]]\n"
          ],
          "name": "stdout"
        }
      ]
    },
    {
      "cell_type": "markdown",
      "metadata": {
        "id": "PxDXl9sSvMCU",
        "colab_type": "text"
      },
      "source": [
        "#NB Bernoli\n"
      ]
    },
    {
      "cell_type": "code",
      "metadata": {
        "id": "Gzvh_AgwvQZ8",
        "colab_type": "code",
        "colab": {
          "base_uri": "https://localhost:8080/",
          "height": 34
        },
        "outputId": "0e4bf176-d980-4c51-dbd8-335f88a251c8"
      },
      "source": [
        "from sklearn.naive_bayes import BernoulliNB\n",
        "classifier = BernoulliNB()\n",
        "classifier.fit(X_train, y_train)"
      ],
      "execution_count": null,
      "outputs": [
        {
          "output_type": "execute_result",
          "data": {
            "text/plain": [
              "BernoulliNB(alpha=1.0, binarize=0.0, class_prior=None, fit_prior=True)"
            ]
          },
          "metadata": {
            "tags": []
          },
          "execution_count": 123
        }
      ]
    },
    {
      "cell_type": "code",
      "metadata": {
        "id": "eCLT3nlqtnfl",
        "colab_type": "code",
        "colab": {}
      },
      "source": [
        "y_pred = classifier.predict(X_test)"
      ],
      "execution_count": null,
      "outputs": []
    },
    {
      "cell_type": "code",
      "metadata": {
        "id": "lotFyaHIs_q9",
        "colab_type": "code",
        "colab": {
          "base_uri": "https://localhost:8080/",
          "height": 221
        },
        "outputId": "a2ca4d45-6baa-4d33-b367-7adb455a2b73"
      },
      "source": [
        "print (\"Accuracy : \", \n",
        "accuracy_score(y_test,y_pred)*100) \n",
        "\t\n",
        "print(\"Report : \", \n",
        "classification_report(y_test, y_pred)) \n",
        "\n",
        "cm2 = confusion_matrix(y_test, y_pred)\n",
        "print(cm2)"
      ],
      "execution_count": null,
      "outputs": [
        {
          "output_type": "stream",
          "text": [
            "Accuracy :  36.0\n",
            "Report :                precision    recall  f1-score   support\n",
            "\n",
            "           0       0.53      0.53      0.53        68\n",
            "           1       0.00      0.00      0.00        32\n",
            "\n",
            "    accuracy                           0.36       100\n",
            "   macro avg       0.26      0.26      0.26       100\n",
            "weighted avg       0.36      0.36      0.36       100\n",
            "\n",
            "[[36 32]\n",
            " [32  0]]\n"
          ],
          "name": "stdout"
        }
      ]
    }
  ]
}