{
 "cells": [
  {
   "cell_type": "code",
   "execution_count": 333,
   "metadata": {},
   "outputs": [],
   "source": [
    "import numpy as np\n",
    "import pandas as pd\n",
    "from sklearn.model_selection import train_test_split\n",
    "from sklearn import datasets"
   ]
  },
  {
   "cell_type": "code",
   "execution_count": 334,
   "metadata": {},
   "outputs": [],
   "source": [
    "iris = datasets.load_iris()\n",
    "x = iris.data[:,:2]\n",
    "y = iris.target"
   ]
  },
  {
   "cell_type": "code",
   "execution_count": 335,
   "metadata": {},
   "outputs": [],
   "source": [
    "x_train,x_test,y_train,y_test = train_test_split(x,y,test_size = 0.25,random_state = 36)\n",
    "train_size=x_train.shape[0]\n",
    "test_size=x_test.shape[0]"
   ]
  },
  {
   "cell_type": "code",
   "execution_count": 336,
   "metadata": {},
   "outputs": [],
   "source": [
    "prediction = np.zeros(test_size)\n",
    "for i in range (test_size):\n",
    "    test_data = x_test[i]\n",
    "    diff_train_test=np.zeros(train_size)\n",
    "    for j in range (train_size):\n",
    "        train_data = x_train[j]\n",
    "        diff_train_test[j]=np.sqrt(np.sum((train_data - test_data)**2))\n",
    "    k=3\n",
    "    nearest = np.argsort(diff_train_test,axis=0)\n",
    "    array=np.zeros(k)\n",
    "    for m in range(k):\n",
    "        array[m]=nearest[m]\n",
    "    array = array.astype(int)\n",
    "    types = np.zeros(k)\n",
    "    for n in array:\n",
    "        types[y_train[n]]+=1\n",
    "        \n",
    "    output = np.argmax(types)\n",
    "    prediction[i]=output"
   ]
  },
  {
   "cell_type": "code",
   "execution_count": 337,
   "metadata": {},
   "outputs": [
    {
     "name": "stdout",
     "output_type": "stream",
     "text": [
      "[2. 2. 2. 2. 2. 1. 2. 2. 1. 1. 1. 0. 2. 1. 0. 0. 0. 2. 0. 1. 0. 2. 2. 0.\n",
      " 2. 2. 0. 2. 1. 2. 0. 0. 0. 2. 2. 0. 1. 0.]\n"
     ]
    }
   ],
   "source": [
    "print(prediction)"
   ]
  },
  {
   "cell_type": "code",
   "execution_count": 338,
   "metadata": {},
   "outputs": [
    {
     "name": "stdout",
     "output_type": "stream",
     "text": [
      "31\n",
      "accuracy : 81.57894736842105 %\n"
     ]
    }
   ],
   "source": [
    "count = 0\n",
    "for i in range(test_size) :\n",
    "    if y_test[i] == prediction[i] :\n",
    "        count = count+1\n",
    "print (count)\n",
    "\n",
    "accuracy = (count / test_size)*100\n",
    "\n",
    "print (\"accuracy :\",accuracy,\"%\")"
   ]
  }
 ],
 "metadata": {
  "kernelspec": {
   "display_name": "Python 3",
   "language": "python",
   "name": "python3"
  },
  "language_info": {
   "codemirror_mode": {
    "name": "ipython",
    "version": 3
   },
   "file_extension": ".py",
   "mimetype": "text/x-python",
   "name": "python",
   "nbconvert_exporter": "python",
   "pygments_lexer": "ipython3",
   "version": "3.7.1"
  }
 },
 "nbformat": 4,
 "nbformat_minor": 2
}
