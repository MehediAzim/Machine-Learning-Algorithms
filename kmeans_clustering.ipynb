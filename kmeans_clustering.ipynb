{
 "cells": [
  {
   "cell_type": "code",
   "execution_count": 258,
   "metadata": {},
   "outputs": [],
   "source": [
    "import numpy as np\n",
    "import pandas as pd\n",
    "from sklearn.model_selection import train_test_split\n",
    "from sklearn import datasets"
   ]
  },
  {
   "cell_type": "code",
   "execution_count": 259,
   "metadata": {},
   "outputs": [],
   "source": [
    "iris =datasets.load_iris()\n",
    "x = iris.data[:, :2]  # we only take the first two features.\n"
   ]
  },
  {
   "cell_type": "code",
   "execution_count": 260,
   "metadata": {},
   "outputs": [
    {
     "data": {
      "text/plain": [
       "(150, 2)"
      ]
     },
     "execution_count": 260,
     "metadata": {},
     "output_type": "execute_result"
    }
   ],
   "source": [
    "x_size=x.shape[0]\n",
    "x.shape\n",
    "#np.ndim(x)"
   ]
  },
  {
   "cell_type": "code",
   "execution_count": 261,
   "metadata": {},
   "outputs": [
    {
     "name": "stdout",
     "output_type": "stream",
     "text": [
      "[[7.7 2.6]\n",
      " [6.3 2.3]\n",
      " [7.2 3.6]]\n"
     ]
    }
   ],
   "source": [
    "k=3\n",
    "center=np.zeros((3,2))\n",
    "m=np.random.randint(150, size=3)\n",
    "#assigning centeroid of clusters randomely\n",
    "for i in range(k):\n",
    "    center[i]=x[m[i]] \n",
    "print(center)  \n",
    "# print(m)"
   ]
  },
  {
   "cell_type": "code",
   "execution_count": 262,
   "metadata": {},
   "outputs": [
    {
     "name": "stdout",
     "output_type": "stream",
     "text": [
      "1.5056773618538326\n",
      "0.98947836679189\n",
      "0.9164282895878377\n",
      "0.913692876126058\n",
      "0.8967262200165427\n",
      "0.8793881755213029\n",
      "0.8726940118514201\n",
      "0.8417744481210137\n",
      "0.8383298400434938\n",
      "0.8349797273273365\n",
      "0.8326888228409639\n",
      "0.827319956718319\n",
      "0.8245466653085911\n",
      "0.8218957733995322\n",
      "0.8231612741368834\n",
      "0.819702894215089\n",
      "0.8175134635460799\n",
      "0.816556013096162\n",
      "0.8139474879130811\n",
      "0.8150166182060977\n",
      "0.8132637757320652\n",
      "converge\n"
     ]
    }
   ],
   "source": [
    "cluster=np.zeros(x_size)#clustering\n",
    "\n",
    "\n",
    "itr=0\n",
    "while itr<100 :\n",
    "    \n",
    "    for i in range(x_size):\n",
    "        temp = np.zeros(k)\n",
    "        for j in range(k):\n",
    "            temp[j]=np.sqrt(np.square(center[j][0]-x[i][0])+np.square(center[j][1]-x[i][1]))\n",
    "        #print(temp)\n",
    "        #print(np.argmin(temp))\n",
    "        cluster[i]=np.argmin(temp)\n",
    "\n",
    "\n",
    "        \n",
    "     #after clustering completed\n",
    "\n",
    "    a=x[cluster==0]\n",
    "    #print(np.mean(a,axis=0))\n",
    "    b=x[cluster==1]\n",
    "    #print(np.mean(b,axis=0))\n",
    "    c=x[cluster==2]\n",
    "    #print(np.mean(c,axis=0))\n",
    "\n",
    "    a_avg=np.mean(a,axis=0)\n",
    "    \n",
    "\n",
    "    b_avg=np.mean(b,axis=0)\n",
    " \n",
    "    c_avg=np.mean(c,axis=0)\n",
    "\n",
    "    \n",
    "    total=np.mean(np.absolute(a-center[0]))+np.mean(np.absolute(b-center[1]))+np.mean(np.absolute(c-center[2]))\n",
    "    print(total)\n",
    "    #culprit found....................!\n",
    "    #if not(a_avg.all==center[0].all() and b_avg.all==center[1].all() and c_avg.all==center[2].all()):\n",
    "    if not(a_avg[0]==center[0][0] and a_avg[1]==center[0][1] and b_avg[0]==center[1][0] and b_avg[1]==center[1][1] and c_avg[0]==center[2][0] and c_avg[1]==center[2][1]):\n",
    "        center[0]=a_avg\n",
    "        center[1]=b_avg\n",
    "        center[2]=c_avg\n",
    "    else:\n",
    "        print(\"converge\")\n",
    "        break\n",
    "    itr=itr+1\n"
   ]
  },
  {
   "cell_type": "code",
   "execution_count": null,
   "metadata": {},
   "outputs": [],
   "source": []
  }
 ],
 "metadata": {
  "kernelspec": {
   "display_name": "Python 3",
   "language": "python",
   "name": "python3"
  },
  "language_info": {
   "codemirror_mode": {
    "name": "ipython",
    "version": 3
   },
   "file_extension": ".py",
   "mimetype": "text/x-python",
   "name": "python",
   "nbconvert_exporter": "python",
   "pygments_lexer": "ipython3",
   "version": "3.7.1"
  }
 },
 "nbformat": 4,
 "nbformat_minor": 2
}
